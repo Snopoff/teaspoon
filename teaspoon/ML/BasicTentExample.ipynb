{
 "cells": [
  {
   "cell_type": "markdown",
   "metadata": {},
   "source": [
    "# Basic Example of Tent Functions\n",
    "\n",
    "This is a demonstration of how to use tent functions on a set of persistence diagrams. Shows you how to set up the parameters, partition the diagram, build the matrix representing the feature vector for each diagram, and visualize how the tent functions work and the output."
   ]
  },
  {
   "cell_type": "code",
   "execution_count": null,
   "metadata": {},
   "outputs": [],
   "source": [
    "import numpy as np\n",
    "\n",
    "from teaspoon.ML.Base import ParameterBucket, build_G, TentParameters\n",
    "from scipy import stats\n",
    "import matplotlib.pyplot as plt\n",
    "\n",
    "import pandas as pd"
   ]
  },
  {
   "cell_type": "markdown",
   "metadata": {},
   "source": [
    "## Make Persistence Diagrams\n",
    "\n",
    "- Make a fake set of diagrams with one point per diagram. \n",
    "- Convert to a pd.Series in Birth Death coordinates. \n",
    "- Plot diagrams on top of each other.\n",
    "\n",
    "This could be replaced with any other random set of PDs, just a simple example for error checking."
   ]
  },
  {
   "cell_type": "code",
   "execution_count": null,
   "metadata": {},
   "outputs": [],
   "source": [
    "# Make fake dgms \n",
    "Dgms = []\n",
    "np.random.seed(48824)\n",
    "\n",
    "x = np.linspace(1,3,num=5)\n",
    "y = np.copy(x)\n",
    "for i in x:\n",
    "    for j in y:\n",
    "        Dgms.append([i,j] + 0.2*np.random.rand(2))\n",
    "x = np.linspace(4,6,num=5)\n",
    "y = np.copy(x)\n",
    "for i in x:\n",
    "    for j in y:\n",
    "        Dgms.append([i,j] + 0.2*np.random.rand(2))\n",
    "Dgms = np.array(Dgms)\n",
    "\n",
    "#birth lifetime\n",
    "x = Dgms[:,0]\n",
    "y = Dgms[:,1]\n",
    "\n",
    "numDgms = len(Dgms)\n",
    "columns = ['Dgm1']\n",
    "index = range(numDgms)\n",
    "DgmsDF = pd.DataFrame(columns = columns, index = index)\n",
    "\n",
    "# this is in birth death! \n",
    "for i in range(len(Dgms)):\n",
    "    DgmsDF.loc[i] = [np.array([[x[i], y[i] + x[i]]])]\n",
    "DgmsDF = pd.Series(data=DgmsDF['Dgm1'])\n",
    "\n",
    "plt.plot(Dgms[:,0], Dgms[:,1],'k*')\n",
    "plt.xlabel('Birth')\n",
    "plt.ylabel('Lifetime')\n",
    "plt.show()"
   ]
  },
  {
   "cell_type": "markdown",
   "metadata": {},
   "source": [
    "## Set up Parameters for Tents\n",
    "\n",
    " - Need a TentParameters parameter bucket. \n",
    " - Set parameter d for mesh size in each direction.\n",
    " - Get adaptive partitions. \n",
    " - Set delta and epsilon for each partition.\n",
    " \n",
    " If you don't want to use adaptive partitions, switch the boolean *params.useAdaptivePart* to *False*."
   ]
  },
  {
   "cell_type": "code",
   "execution_count": null,
   "metadata": {},
   "outputs": [],
   "source": [
    "params = TentParameters()\n",
    "params.d = [3,3]\n",
    "params.useAdaptivePart = True\n",
    "\n",
    "if params.useAdaptivePart == True:\n",
    "    # Hand the series to the makeAdaptivePartition function\n",
    "    params.makeAdaptivePartition(allDgms, meshingScheme = 'DV', numParts = 2)\n",
    "else:\n",
    "    # Just use the bounding box as the partition\n",
    "    params.makeAdaptivePartition(allDgms, meshingScheme = 'None')\n",
    "\n",
    "# Assign delta and epsilon for each partition\n",
    "# If you didn't use adaptive partitioning this just assigns it to the one partition for the whole bounding box\n",
    "params.chooseDeltaEpsForPartitions()"
   ]
  },
  {
   "cell_type": "markdown",
   "metadata": {},
   "source": [
    "## Build Feature Matrix and Plot it\n",
    "- Each row corresponds to a single diagram\n",
    "- Each column represents a single tent function\n",
    "- W/out Adaptive Partitioning: \\# Cols = $(d+1)\\times(d+1)$\n",
    "- With  Adaptive Partitioning: \\# Cols = $(d+1)\\times(d+1)\\times$(Num of Partitions) \n",
    "\n",
    "Note: *build_G* assumes pd.Series of persistence diagrams is in BirthDeath Coordinates.\n",
    "\n",
    "To visualize G, uncomment the plotting commands below."
   ]
  },
  {
   "cell_type": "code",
   "execution_count": null,
   "metadata": {},
   "outputs": [],
   "source": [
    "#Build G matrix\n",
    "G = build_G(DgmsDF, params)\n",
    "\n",
    "# # Plot G\n",
    "# G_plot = plt.pcolor(G)\n",
    "# cbar = plt.colorbar(G_plot)\n",
    "# cbar.set_clim(0, 1.0)\n",
    "# plt.show()"
   ]
  },
  {
   "cell_type": "markdown",
   "metadata": {},
   "source": [
    "## Visualize Tent Centers\n",
    "\n",
    "To see how all of this works, let's plot: \n",
    "- all diagram points (black stars), \n",
    "- partition boundaries (black lines),\n",
    "- the boundary of the support of all the tent functions (blue dashed lines),\n",
    "- points where tents are centered (solid dots, different colors correspond to centers within a partition)\n",
    "\n",
    "Important notes:\n",
    "- Support may not be centered around the partition box \n",
    " - if with the parameters the support is going to cross the horizontal axis, then the support is shifted up so the bottom of the box lies along the axis\n",
    "- Centers of tents may not be contained in the partition\n",
    " - delta parameter is calculated to be max(width/d , height/d) (or max(width/dx , height/dy) if d = [dx, dy]) so it ensures it covers the entire partition but this also means it may extend outside the partition \n",
    " - this is fine, the tents within a partition will not be evaluated on points that are not contained in the partition "
   ]
  },
  {
   "cell_type": "code",
   "execution_count": null,
   "metadata": {},
   "outputs": [],
   "source": [
    "# Calculate tent centers based on d, delta, epsilon\n",
    "tent_centers = params.calcTentCenters()\n",
    "\n",
    "# Plot partitions and overlay the data\n",
    "plt.rcParams['figure.figsize'] = [10, 10]\n",
    "params.partitions.plot()\n",
    "plt.plot(x, y, 'k*')\n",
    "for centers in tent_centers:\n",
    "    plt.scatter(centers[:,0], centers[:,1])\n",
    "\n",
    "params.plotTentSupport()\n",
    "\n",
    "plt.show()"
   ]
  },
  {
   "cell_type": "markdown",
   "metadata": {},
   "source": [
    "### For a full example of using the tent function for a machine learning experiment see the Jupyter Notebook MLTentExample.ipynb"
   ]
  }
 ],
 "metadata": {
  "kernelspec": {
   "display_name": "Python 3",
   "language": "python",
   "name": "python3"
  },
  "language_info": {
   "codemirror_mode": {
    "name": "ipython",
    "version": 3
   },
   "file_extension": ".py",
   "mimetype": "text/x-python",
   "name": "python",
   "nbconvert_exporter": "python",
   "pygments_lexer": "ipython3",
   "version": "3.7.2"
  }
 },
 "nbformat": 4,
 "nbformat_minor": 2
}
